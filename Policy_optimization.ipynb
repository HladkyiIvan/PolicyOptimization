{
 "cells": [
  {
   "cell_type": "code",
   "execution_count": 1,
   "id": "26494fa3-2489-41d4-bde0-973afbf2e25b",
   "metadata": {},
   "outputs": [],
   "source": [
    "import torch\n",
    "import torch.nn as nn\n",
    "from torch.distributions.categorical import Categorical\n",
    "from torch.optim import Adam\n",
    "import numpy as np\n",
    "import gym\n",
    "from gym.spaces import Discrete, Box\n",
    "from tqdm import trange\n",
    "from time import sleep"
   ]
  },
  {
   "cell_type": "code",
   "execution_count": 2,
   "id": "16e4899b-96d5-4d9b-8d88-6e98b048fe29",
   "metadata": {},
   "outputs": [],
   "source": [
    "def get_mlp(sizes, activation=nn.ReLU):\n",
    "    layers = []\n",
    "    for i in range(len(sizes) - 1):\n",
    "        layers += [nn.Linear(sizes[i], sizes[i + 1]), activation()]\n",
    "    return nn.Sequential(*layers)"
   ]
  },
  {
   "cell_type": "code",
   "execution_count": 3,
   "id": "ac5dff70-9d65-410c-a9ac-e9d484d61510",
   "metadata": {},
   "outputs": [],
   "source": [
    "def get_action(policy, obs):\n",
    "    return Categorical(logits=policy(obs)).sample().item()"
   ]
  },
  {
   "cell_type": "code",
   "execution_count": 4,
   "id": "b759f834-1d49-466c-b783-295327c3e6bb",
   "metadata": {},
   "outputs": [],
   "source": [
    "def get_loss(policy, obs, act, weights):\n",
    "    log_prob = Categorical(logits=policy(obs)).log_prob(act)\n",
    "    return -(log_prob * weights).mean()"
   ]
  },
  {
   "cell_type": "code",
   "execution_count": 5,
   "id": "f7dfaa27-ca66-4145-9420-e712b6267f52",
   "metadata": {},
   "outputs": [],
   "source": [
    "def get_reward_to_go(rewards):\n",
    "    rewards_to_go = np.zeros(len(rewards) + 1)\n",
    "    for i in reversed(range(len(rewards))):\n",
    "        rewards_to_go[i] = rewards[i] + rewards_to_go[i + 1]\n",
    "    return list(rewards_to_go[:-1])"
   ]
  },
  {
   "cell_type": "code",
   "execution_count": 6,
   "id": "e2426bff-e2f3-4304-9f53-7ea2805d4acc",
   "metadata": {},
   "outputs": [],
   "source": [
    "def train(hidden_sizes, env_name, epochs, batch_size, lr=1e-2, activation=nn.ReLU, render=True, rewards_to_go=True):\n",
    "    env = gym.make(env_name)\n",
    "\n",
    "    assert isinstance(env.observation_space, Box), \\\n",
    "        \"This example only works for envs with continuous state spaces.\"\n",
    "    assert isinstance(env.action_space, Discrete), \\\n",
    "        \"This example only works for envs with discrete action spaces.\"\n",
    "\n",
    "    obs_dim = env.observation_space.shape[0]\n",
    "    n_acts = env.action_space.n\n",
    "    \n",
    "    logits_net = get_mlp([obs_dim] + hidden_sizes + [n_acts], activation)\n",
    "    optimizer = Adam(logits_net.parameters(), lr=lr)\n",
    "    \n",
    "    pbar = trange(epochs, unit=\"epochs\")\n",
    "    \n",
    "    for i in pbar:\n",
    "        pbar.set_description(f\"Epoch {i}\")\n",
    "        \n",
    "        batch_obs = []\n",
    "        batch_acts = []\n",
    "        batch_rets = []\n",
    "        batch_lens = []\n",
    "        batch_weights = []\n",
    "        episode_rew = []\n",
    "        \n",
    "        done = False\n",
    "        finished_rendering_this_epoch= False\n",
    "        \n",
    "        obs = env.reset()\n",
    "        \n",
    "        while True:\n",
    "            if (not finished_rendering_this_epoch) and render:\n",
    "                env.render()\n",
    "\n",
    "            batch_obs.append(obs.copy())\n",
    "            \n",
    "            act = get_action(logits_net, torch.as_tensor(obs, dtype=torch.float32))\n",
    "            obs, rew, done, _ = env.step(act)\n",
    "            batch_acts.append(act)\n",
    "            \n",
    "            episode_rew.append(rew)\n",
    "            \n",
    "            if done:\n",
    "                episode_rew_sum, episode_len = sum(episode_rew), len(episode_rew)\n",
    "                \n",
    "                batch_rets.append(episode_rew_sum)\n",
    "                batch_lens.append(episode_len)\n",
    "                batch_weights += get_reward_to_go(episode_rew) if rewards_to_go else [episode_rew_sum] * episode_len\n",
    "                \n",
    "                finished_rendering_this_epoch = True\n",
    "                obs, done, episode_rew = env.reset(), False, []\n",
    "                \n",
    "                if len(batch_obs) > batch_size:\n",
    "                    break\n",
    "\n",
    "        optimizer.zero_grad()\n",
    "        batch_loss = get_loss(logits_net, torch.as_tensor(batch_obs, dtype=torch.float32),\n",
    "                                          torch.as_tensor(batch_acts, dtype=torch.int32),\n",
    "                                          torch.as_tensor(batch_weights, dtype=torch.float32))\n",
    "        batch_loss.backward()\n",
    "        optimizer.step()\n",
    "        \n",
    "        pbar.set_postfix(policy_grad=-batch_loss.item(), avg_ep_rew=np.mean(batch_rets), avg_ep_len = np.mean(batch_lens))\n",
    "        sleep(0.1)\n",
    "        \n",
    "    pbar.close()\n",
    "    return logits_net"
   ]
  },
  {
   "cell_type": "code",
   "execution_count": 8,
   "id": "396401bb-42c6-4453-93b7-48dfd0004c2a",
   "metadata": {},
   "outputs": [
    {
     "name": "stderr",
     "output_type": "stream",
     "text": [
      "/home/ivan/anaconda3/envs/spinningup/lib/python3.6/site-packages/gym/logger.py:30: UserWarning: \u001b[33mWARN: Box bound precision lowered by casting to float32\u001b[0m\n",
      "  warnings.warn(colorize('%s: %s'%('WARN', msg % args), 'yellow'))\n",
      "Epoch 99: 100%|██████████| 100/100 [08:48<00:00,  5.29s/epochs, avg_ep_len=200, avg_ep_rew=-200, policy_grad=110]\n"
     ]
    }
   ],
   "source": [
    "logits_net = train([32], 'MountainCar-v0', 100, 5000, render=True, rewards_to_go=True)"
   ]
  },
  {
   "cell_type": "code",
   "execution_count": null,
   "id": "6f110940-c0ae-43ed-97c6-4ee3a8090022",
   "metadata": {},
   "outputs": [],
   "source": [
    "logits_net = train([32], 'Acrobot-v1', 100, 5000, render=True, rewards_to_go=True)"
   ]
  }
 ],
 "metadata": {
  "kernelspec": {
   "display_name": "Python 3",
   "language": "python",
   "name": "python3"
  },
  "language_info": {
   "codemirror_mode": {
    "name": "ipython",
    "version": 3
   },
   "file_extension": ".py",
   "mimetype": "text/x-python",
   "name": "python",
   "nbconvert_exporter": "python",
   "pygments_lexer": "ipython3",
   "version": "3.6.13"
  }
 },
 "nbformat": 4,
 "nbformat_minor": 5
}
